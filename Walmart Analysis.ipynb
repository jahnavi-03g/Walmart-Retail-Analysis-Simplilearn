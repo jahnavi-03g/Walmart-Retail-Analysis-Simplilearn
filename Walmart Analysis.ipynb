{
 "cells": [
  {
   "cell_type": "code",
   "execution_count": 2,
   "id": "c93d664d",
   "metadata": {},
   "outputs": [],
   "source": [
    "import pandas as pd\n",
    "import numpy as np\n",
    "import matplotlib.pyplot as plt\n",
    "import seaborn as sns\n",
    "import sklearn"
   ]
  },
  {
   "cell_type": "code",
   "execution_count": 66,
   "id": "7daa6532",
   "metadata": {},
   "outputs": [],
   "source": [
    "import warnings\n",
    "warnings.filterwarnings('ignore')"
   ]
  },
  {
   "cell_type": "code",
   "execution_count": 67,
   "id": "f37117bd",
   "metadata": {},
   "outputs": [
    {
     "data": {
      "text/html": [
       "<div>\n",
       "<style scoped>\n",
       "    .dataframe tbody tr th:only-of-type {\n",
       "        vertical-align: middle;\n",
       "    }\n",
       "\n",
       "    .dataframe tbody tr th {\n",
       "        vertical-align: top;\n",
       "    }\n",
       "\n",
       "    .dataframe thead th {\n",
       "        text-align: right;\n",
       "    }\n",
       "</style>\n",
       "<table border=\"1\" class=\"dataframe\">\n",
       "  <thead>\n",
       "    <tr style=\"text-align: right;\">\n",
       "      <th></th>\n",
       "      <th>Store</th>\n",
       "      <th>Date</th>\n",
       "      <th>Weekly_Sales</th>\n",
       "      <th>Holiday_Flag</th>\n",
       "      <th>Temperature</th>\n",
       "      <th>Fuel_Price</th>\n",
       "      <th>CPI</th>\n",
       "      <th>Unemployment</th>\n",
       "    </tr>\n",
       "  </thead>\n",
       "  <tbody>\n",
       "    <tr>\n",
       "      <th>0</th>\n",
       "      <td>1</td>\n",
       "      <td>05-02-2010</td>\n",
       "      <td>1643690.90</td>\n",
       "      <td>0</td>\n",
       "      <td>42.31</td>\n",
       "      <td>2.572</td>\n",
       "      <td>211.096358</td>\n",
       "      <td>8.106</td>\n",
       "    </tr>\n",
       "    <tr>\n",
       "      <th>1</th>\n",
       "      <td>1</td>\n",
       "      <td>12-02-2010</td>\n",
       "      <td>1641957.44</td>\n",
       "      <td>1</td>\n",
       "      <td>38.51</td>\n",
       "      <td>2.548</td>\n",
       "      <td>211.242170</td>\n",
       "      <td>8.106</td>\n",
       "    </tr>\n",
       "    <tr>\n",
       "      <th>2</th>\n",
       "      <td>1</td>\n",
       "      <td>19-02-2010</td>\n",
       "      <td>1611968.17</td>\n",
       "      <td>0</td>\n",
       "      <td>39.93</td>\n",
       "      <td>2.514</td>\n",
       "      <td>211.289143</td>\n",
       "      <td>8.106</td>\n",
       "    </tr>\n",
       "    <tr>\n",
       "      <th>3</th>\n",
       "      <td>1</td>\n",
       "      <td>26-02-2010</td>\n",
       "      <td>1409727.59</td>\n",
       "      <td>0</td>\n",
       "      <td>46.63</td>\n",
       "      <td>2.561</td>\n",
       "      <td>211.319643</td>\n",
       "      <td>8.106</td>\n",
       "    </tr>\n",
       "    <tr>\n",
       "      <th>4</th>\n",
       "      <td>1</td>\n",
       "      <td>05-03-2010</td>\n",
       "      <td>1554806.68</td>\n",
       "      <td>0</td>\n",
       "      <td>46.50</td>\n",
       "      <td>2.625</td>\n",
       "      <td>211.350143</td>\n",
       "      <td>8.106</td>\n",
       "    </tr>\n",
       "    <tr>\n",
       "      <th>...</th>\n",
       "      <td>...</td>\n",
       "      <td>...</td>\n",
       "      <td>...</td>\n",
       "      <td>...</td>\n",
       "      <td>...</td>\n",
       "      <td>...</td>\n",
       "      <td>...</td>\n",
       "      <td>...</td>\n",
       "    </tr>\n",
       "    <tr>\n",
       "      <th>6430</th>\n",
       "      <td>45</td>\n",
       "      <td>28-09-2012</td>\n",
       "      <td>713173.95</td>\n",
       "      <td>0</td>\n",
       "      <td>64.88</td>\n",
       "      <td>3.997</td>\n",
       "      <td>192.013558</td>\n",
       "      <td>8.684</td>\n",
       "    </tr>\n",
       "    <tr>\n",
       "      <th>6431</th>\n",
       "      <td>45</td>\n",
       "      <td>05-10-2012</td>\n",
       "      <td>733455.07</td>\n",
       "      <td>0</td>\n",
       "      <td>64.89</td>\n",
       "      <td>3.985</td>\n",
       "      <td>192.170412</td>\n",
       "      <td>8.667</td>\n",
       "    </tr>\n",
       "    <tr>\n",
       "      <th>6432</th>\n",
       "      <td>45</td>\n",
       "      <td>12-10-2012</td>\n",
       "      <td>734464.36</td>\n",
       "      <td>0</td>\n",
       "      <td>54.47</td>\n",
       "      <td>4.000</td>\n",
       "      <td>192.327265</td>\n",
       "      <td>8.667</td>\n",
       "    </tr>\n",
       "    <tr>\n",
       "      <th>6433</th>\n",
       "      <td>45</td>\n",
       "      <td>19-10-2012</td>\n",
       "      <td>718125.53</td>\n",
       "      <td>0</td>\n",
       "      <td>56.47</td>\n",
       "      <td>3.969</td>\n",
       "      <td>192.330854</td>\n",
       "      <td>8.667</td>\n",
       "    </tr>\n",
       "    <tr>\n",
       "      <th>6434</th>\n",
       "      <td>45</td>\n",
       "      <td>26-10-2012</td>\n",
       "      <td>760281.43</td>\n",
       "      <td>0</td>\n",
       "      <td>58.85</td>\n",
       "      <td>3.882</td>\n",
       "      <td>192.308899</td>\n",
       "      <td>8.667</td>\n",
       "    </tr>\n",
       "  </tbody>\n",
       "</table>\n",
       "<p>6435 rows × 8 columns</p>\n",
       "</div>"
      ],
      "text/plain": [
       "      Store        Date  Weekly_Sales  Holiday_Flag  Temperature  Fuel_Price  \\\n",
       "0         1  05-02-2010    1643690.90             0        42.31       2.572   \n",
       "1         1  12-02-2010    1641957.44             1        38.51       2.548   \n",
       "2         1  19-02-2010    1611968.17             0        39.93       2.514   \n",
       "3         1  26-02-2010    1409727.59             0        46.63       2.561   \n",
       "4         1  05-03-2010    1554806.68             0        46.50       2.625   \n",
       "...     ...         ...           ...           ...          ...         ...   \n",
       "6430     45  28-09-2012     713173.95             0        64.88       3.997   \n",
       "6431     45  05-10-2012     733455.07             0        64.89       3.985   \n",
       "6432     45  12-10-2012     734464.36             0        54.47       4.000   \n",
       "6433     45  19-10-2012     718125.53             0        56.47       3.969   \n",
       "6434     45  26-10-2012     760281.43             0        58.85       3.882   \n",
       "\n",
       "             CPI  Unemployment  \n",
       "0     211.096358         8.106  \n",
       "1     211.242170         8.106  \n",
       "2     211.289143         8.106  \n",
       "3     211.319643         8.106  \n",
       "4     211.350143         8.106  \n",
       "...          ...           ...  \n",
       "6430  192.013558         8.684  \n",
       "6431  192.170412         8.667  \n",
       "6432  192.327265         8.667  \n",
       "6433  192.330854         8.667  \n",
       "6434  192.308899         8.667  \n",
       "\n",
       "[6435 rows x 8 columns]"
      ]
     },
     "execution_count": 67,
     "metadata": {},
     "output_type": "execute_result"
    }
   ],
   "source": [
    "data = pd.read_csv('Walmart_Store_sales.csv')\n",
    "data"
   ]
  },
  {
   "cell_type": "code",
   "execution_count": 68,
   "id": "e13d5ef5",
   "metadata": {},
   "outputs": [
    {
     "name": "stdout",
     "output_type": "stream",
     "text": [
      "<class 'pandas.core.frame.DataFrame'>\n",
      "RangeIndex: 6435 entries, 0 to 6434\n",
      "Data columns (total 8 columns):\n",
      " #   Column        Non-Null Count  Dtype  \n",
      "---  ------        --------------  -----  \n",
      " 0   Store         6435 non-null   int64  \n",
      " 1   Date          6435 non-null   object \n",
      " 2   Weekly_Sales  6435 non-null   float64\n",
      " 3   Holiday_Flag  6435 non-null   int64  \n",
      " 4   Temperature   6435 non-null   float64\n",
      " 5   Fuel_Price    6435 non-null   float64\n",
      " 6   CPI           6435 non-null   float64\n",
      " 7   Unemployment  6435 non-null   float64\n",
      "dtypes: float64(5), int64(2), object(1)\n",
      "memory usage: 402.3+ KB\n"
     ]
    }
   ],
   "source": [
    "data.info()"
   ]
  },
  {
   "cell_type": "code",
   "execution_count": 69,
   "id": "0ac45c9d",
   "metadata": {},
   "outputs": [
    {
     "data": {
      "text/plain": [
       "Store           0\n",
       "Date            0\n",
       "Weekly_Sales    0\n",
       "Holiday_Flag    0\n",
       "Temperature     0\n",
       "Fuel_Price      0\n",
       "CPI             0\n",
       "Unemployment    0\n",
       "dtype: int64"
      ]
     },
     "execution_count": 69,
     "metadata": {},
     "output_type": "execute_result"
    }
   ],
   "source": [
    "data.isna().sum()"
   ]
  },
  {
   "cell_type": "markdown",
   "id": "d852b144",
   "metadata": {},
   "source": [
    "# which store has maximum sales ?"
   ]
  },
  {
   "cell_type": "code",
   "execution_count": 70,
   "id": "9cdcd1df",
   "metadata": {},
   "outputs": [
    {
     "data": {
      "text/plain": [
       "Store\n",
       "1     222402809.0\n",
       "2     275382441.0\n",
       "3      57586735.0\n",
       "4     299543953.0\n",
       "5      45475689.0\n",
       "6     223756131.0\n",
       "7      81598275.0\n",
       "8     129951181.0\n",
       "9      77789219.0\n",
       "10    271617714.0\n",
       "11    193962787.0\n",
       "12    144287230.0\n",
       "13    286517704.0\n",
       "14    288999911.0\n",
       "15     89133684.0\n",
       "16     74252425.0\n",
       "17    127782139.0\n",
       "18    155114734.0\n",
       "19    206634862.0\n",
       "20    301397792.0\n",
       "21    108117879.0\n",
       "22    147075649.0\n",
       "23    198750618.0\n",
       "24    194016021.0\n",
       "25    101061179.0\n",
       "26    143416394.0\n",
       "27    253855917.0\n",
       "28    189263681.0\n",
       "29     77141554.0\n",
       "30     62716885.0\n",
       "31    199613906.0\n",
       "32    166819246.0\n",
       "33     37160222.0\n",
       "34    138249763.0\n",
       "35    131520672.0\n",
       "36     53412215.0\n",
       "37     74202740.0\n",
       "38     55159626.0\n",
       "39    207445542.0\n",
       "40    137870310.0\n",
       "41    181341935.0\n",
       "42     79565752.0\n",
       "43     90565435.0\n",
       "44     43293088.0\n",
       "45    112395341.0\n",
       "Name: Weekly_Sales, dtype: float64"
      ]
     },
     "execution_count": 70,
     "metadata": {},
     "output_type": "execute_result"
    }
   ],
   "source": [
    "#calculate total sales firstly\n",
    "\n",
    "total_sales = data.groupby('Store')['Weekly_Sales'].sum().round()\n",
    "total_sales"
   ]
  },
  {
   "cell_type": "code",
   "execution_count": 71,
   "id": "890e8e90",
   "metadata": {},
   "outputs": [
    {
     "data": {
      "text/plain": [
       "Store\n",
       "20    301397792.0\n",
       "4     299543953.0\n",
       "14    288999911.0\n",
       "13    286517704.0\n",
       "2     275382441.0\n",
       "10    271617714.0\n",
       "27    253855917.0\n",
       "6     223756131.0\n",
       "1     222402809.0\n",
       "39    207445542.0\n",
       "19    206634862.0\n",
       "31    199613906.0\n",
       "23    198750618.0\n",
       "24    194016021.0\n",
       "11    193962787.0\n",
       "28    189263681.0\n",
       "41    181341935.0\n",
       "32    166819246.0\n",
       "18    155114734.0\n",
       "22    147075649.0\n",
       "12    144287230.0\n",
       "26    143416394.0\n",
       "34    138249763.0\n",
       "40    137870310.0\n",
       "35    131520672.0\n",
       "8     129951181.0\n",
       "17    127782139.0\n",
       "45    112395341.0\n",
       "21    108117879.0\n",
       "25    101061179.0\n",
       "43     90565435.0\n",
       "15     89133684.0\n",
       "7      81598275.0\n",
       "42     79565752.0\n",
       "9      77789219.0\n",
       "29     77141554.0\n",
       "16     74252425.0\n",
       "37     74202740.0\n",
       "30     62716885.0\n",
       "3      57586735.0\n",
       "38     55159626.0\n",
       "36     53412215.0\n",
       "5      45475689.0\n",
       "44     43293088.0\n",
       "33     37160222.0\n",
       "Name: Weekly_Sales, dtype: float64"
      ]
     },
     "execution_count": 71,
     "metadata": {},
     "output_type": "execute_result"
    }
   ],
   "source": [
    "total_sales.sort_values(ascending = False)"
   ]
  },
  {
   "cell_type": "markdown",
   "id": "f7a3ec7f",
   "metadata": {},
   "source": [
    "# Which store has maximum standard deviation?"
   ]
  },
  {
   "cell_type": "code",
   "execution_count": 72,
   "id": "2ccb47d3",
   "metadata": {},
   "outputs": [
    {
     "data": {
      "text/plain": [
       "Store\n",
       "1     155981.0\n",
       "2     237684.0\n",
       "3      46320.0\n",
       "4     266201.0\n",
       "5      37738.0\n",
       "6     212526.0\n",
       "7     112585.0\n",
       "8     106281.0\n",
       "9      69029.0\n",
       "10    302262.0\n",
       "11    165834.0\n",
       "12    139167.0\n",
       "13    265507.0\n",
       "14    317570.0\n",
       "15    120539.0\n",
       "16     85770.0\n",
       "17    112163.0\n",
       "18    176642.0\n",
       "19    191723.0\n",
       "20    275901.0\n",
       "21    128753.0\n",
       "22    161251.0\n",
       "23    249788.0\n",
       "24    167746.0\n",
       "25    112977.0\n",
       "26    110431.0\n",
       "27    239930.0\n",
       "28    181759.0\n",
       "29     99120.0\n",
       "30     22810.0\n",
       "31    125856.0\n",
       "32    138017.0\n",
       "33     24133.0\n",
       "34    104630.0\n",
       "35    211243.0\n",
       "36     60725.0\n",
       "37     21837.0\n",
       "38     42768.0\n",
       "39    217466.0\n",
       "40    119002.0\n",
       "41    187907.0\n",
       "42     50263.0\n",
       "43     40598.0\n",
       "44     24763.0\n",
       "45    130169.0\n",
       "Name: Weekly_Sales, dtype: float64"
      ]
     },
     "execution_count": 72,
     "metadata": {},
     "output_type": "execute_result"
    }
   ],
   "source": [
    "std_dev = data.groupby('Store')['Weekly_Sales'].std().round()\n",
    "std_dev"
   ]
  },
  {
   "cell_type": "code",
   "execution_count": 73,
   "id": "c16e9cec",
   "metadata": {},
   "outputs": [
    {
     "data": {
      "text/plain": [
       "Store\n",
       "14    317570.0\n",
       "10    302262.0\n",
       "20    275901.0\n",
       "4     266201.0\n",
       "13    265507.0\n",
       "23    249788.0\n",
       "27    239930.0\n",
       "2     237684.0\n",
       "39    217466.0\n",
       "6     212526.0\n",
       "35    211243.0\n",
       "19    191723.0\n",
       "41    187907.0\n",
       "28    181759.0\n",
       "18    176642.0\n",
       "24    167746.0\n",
       "11    165834.0\n",
       "22    161251.0\n",
       "1     155981.0\n",
       "12    139167.0\n",
       "32    138017.0\n",
       "45    130169.0\n",
       "21    128753.0\n",
       "31    125856.0\n",
       "15    120539.0\n",
       "40    119002.0\n",
       "25    112977.0\n",
       "7     112585.0\n",
       "17    112163.0\n",
       "26    110431.0\n",
       "8     106281.0\n",
       "34    104630.0\n",
       "29     99120.0\n",
       "16     85770.0\n",
       "9      69029.0\n",
       "36     60725.0\n",
       "42     50263.0\n",
       "3      46320.0\n",
       "38     42768.0\n",
       "43     40598.0\n",
       "5      37738.0\n",
       "44     24763.0\n",
       "33     24133.0\n",
       "30     22810.0\n",
       "37     21837.0\n",
       "Name: Weekly_Sales, dtype: float64"
      ]
     },
     "execution_count": 73,
     "metadata": {},
     "output_type": "execute_result"
    }
   ],
   "source": [
    "std_dev.sort_values(ascending = False)"
   ]
  },
  {
   "cell_type": "markdown",
   "id": "6965e464",
   "metadata": {},
   "source": [
    "# Also, find out the coefficient of mean to standard deviation"
   ]
  },
  {
   "cell_type": "code",
   "execution_count": 74,
   "id": "47668a30",
   "metadata": {},
   "outputs": [
    {
     "data": {
      "text/plain": [
       "1859    2623469.95\n",
       "1860    1704218.84\n",
       "1861    2204556.70\n",
       "1862    2095591.63\n",
       "1863    2237544.75\n",
       "           ...    \n",
       "1997    1522512.20\n",
       "1998    1687592.16\n",
       "1999    1639585.61\n",
       "2000    1590274.72\n",
       "2001    1704357.62\n",
       "Name: Weekly_Sales, Length: 143, dtype: float64"
      ]
     },
     "execution_count": 74,
     "metadata": {},
     "output_type": "execute_result"
    }
   ],
   "source": [
    "store = data[data.Store == 14].Weekly_Sales\n",
    "store"
   ]
  },
  {
   "cell_type": "code",
   "execution_count": 75,
   "id": "5016219f",
   "metadata": {},
   "outputs": [
    {
     "data": {
      "text/plain": [
       "15.713673600948338"
      ]
     },
     "execution_count": 75,
     "metadata": {},
     "output_type": "execute_result"
    }
   ],
   "source": [
    "mean_std = (store.std()/store.mean())*100\n",
    "mean_std"
   ]
  },
  {
   "cell_type": "markdown",
   "id": "6a6a61d5",
   "metadata": {},
   "source": [
    "# Which store/s has good quarterly growth rate in Q3’2012\n",
    "\n"
   ]
  },
  {
   "cell_type": "code",
   "execution_count": 76,
   "id": "13c1b800",
   "metadata": {},
   "outputs": [],
   "source": [
    "# changing the data type from object to datetime\n",
    "data['Date'] = pd.to_datetime(data['Date']);"
   ]
  },
  {
   "cell_type": "code",
   "execution_count": 77,
   "id": "4d060e5d",
   "metadata": {},
   "outputs": [
    {
     "data": {
      "text/plain": [
       "Store\n",
       "1     21036966.0\n",
       "2     25085124.0\n",
       "3      5562668.0\n",
       "4     28384185.0\n",
       "5      4427262.0\n",
       "6     20728970.0\n",
       "7      7613594.0\n",
       "8     11934276.0\n",
       "9      7431320.0\n",
       "10    23598434.0\n",
       "11    17879096.0\n",
       "12    13193365.0\n",
       "13    26803226.0\n",
       "14    24427769.0\n",
       "15     7867952.0\n",
       "16     6626133.0\n",
       "17    12918892.0\n",
       "18    13834706.0\n",
       "19    18315279.0\n",
       "20    27550181.0\n",
       "21     9226280.0\n",
       "22    13329065.0\n",
       "23    18283425.0\n",
       "24    17768192.0\n",
       "25     9247467.0\n",
       "26    13218290.0\n",
       "27    22593641.0\n",
       "28    16986000.0\n",
       "29     7034493.0\n",
       "30     5786335.0\n",
       "31    18249155.0\n",
       "32    15415236.0\n",
       "33     3512138.0\n",
       "34    12858028.0\n",
       "35    10753571.0\n",
       "36     4090379.0\n",
       "37     6859778.0\n",
       "38     5732363.0\n",
       "39    20191586.0\n",
       "40    12849747.0\n",
       "41    17560036.0\n",
       "42     7608247.0\n",
       "43     8239793.0\n",
       "44     4322555.0\n",
       "45    10278900.0\n",
       "Name: Weekly_Sales, dtype: float64"
      ]
     },
     "execution_count": 77,
     "metadata": {},
     "output_type": "execute_result"
    }
   ],
   "source": [
    "# calculating sales in the second quarter i.e. date 1-4-2012 to 30-06-2012\n",
    "\n",
    "q2_sales = data[(data['Date']>='2012-4-1') & (data['Date']<='2012-6-30')].groupby('Store')['Weekly_Sales'].sum().round()\n",
    "q2_sales"
   ]
  },
  {
   "cell_type": "code",
   "execution_count": 78,
   "id": "11226316",
   "metadata": {},
   "outputs": [
    {
     "data": {
      "text/plain": [
       "Store\n",
       "1     18633210.0\n",
       "2     22396868.0\n",
       "3      4966496.0\n",
       "4     25652119.0\n",
       "5      3880622.0\n",
       "6     18341221.0\n",
       "7      7322394.0\n",
       "8     10873860.0\n",
       "9      6528240.0\n",
       "10    21169356.0\n",
       "11    16094363.0\n",
       "12    11777508.0\n",
       "13    24319994.0\n",
       "14    20140430.0\n",
       "15     6909374.0\n",
       "16     6441311.0\n",
       "17    11533998.0\n",
       "18    12507522.0\n",
       "19    16644341.0\n",
       "20    24665938.0\n",
       "21     8403508.0\n",
       "22    11818544.0\n",
       "23    17103654.0\n",
       "24    16126000.0\n",
       "25     8309440.0\n",
       "26    12417575.0\n",
       "27    20191238.0\n",
       "28    15055660.0\n",
       "29     6127862.0\n",
       "30     5181974.0\n",
       "31    16454328.0\n",
       "32    14142165.0\n",
       "33     3177072.0\n",
       "34    11476259.0\n",
       "35    10252123.0\n",
       "36     3578124.0\n",
       "37     6250524.0\n",
       "38     5129298.0\n",
       "39    18899955.0\n",
       "40    11647661.0\n",
       "41    16373588.0\n",
       "42     6830840.0\n",
       "43     7376726.0\n",
       "44     4020486.0\n",
       "45     8851242.0\n",
       "Name: Weekly_Sales, dtype: float64"
      ]
     },
     "execution_count": 78,
     "metadata": {},
     "output_type": "execute_result"
    }
   ],
   "source": [
    "# calculating sales in the third quarter i.e. date 1-7-2012 to 30-9-2012\n",
    "\n",
    "q3_sales = data[(data['Date']>='2012-7-1') & (data['Date']<='2012-9-30')].groupby('Store')['Weekly_Sales'].sum().round()\n",
    "q3_sales"
   ]
  },
  {
   "cell_type": "code",
   "execution_count": 79,
   "id": "6e8b5d12",
   "metadata": {},
   "outputs": [],
   "source": [
    "# calculating growth\n",
    "difference = q3_sales - q2_sales\n",
    "growth_rate = (difference/q2_sales)*100"
   ]
  },
  {
   "cell_type": "code",
   "execution_count": 80,
   "id": "ebd48bbd",
   "metadata": {},
   "outputs": [
    {
     "data": {
      "text/plain": [
       "Store\n",
       "16    -2.789289\n",
       "7     -3.824738\n",
       "35    -4.663084\n",
       "26    -6.057629\n",
       "39    -6.396877\n",
       "23    -6.452681\n",
       "41    -6.756524\n",
       "44    -6.988205\n",
       "32    -8.258524\n",
       "37    -8.881541\n",
       "8     -8.885466\n",
       "21    -8.917700\n",
       "19    -9.123192\n",
       "24    -9.242313\n",
       "13    -9.264676\n",
       "40    -9.354939\n",
       "33    -9.540229\n",
       "18    -9.593149\n",
       "4     -9.625311\n",
       "31    -9.835124\n",
       "11    -9.982233\n",
       "25   -10.143610\n",
       "42   -10.217952\n",
       "10   -10.293386\n",
       "30   -10.444625\n",
       "20   -10.469053\n",
       "43   -10.474377\n",
       "38   -10.520356\n",
       "27   -10.633094\n",
       "2    -10.716535\n",
       "3    -10.717375\n",
       "17   -10.719913\n",
       "12   -10.731584\n",
       "34   -10.746352\n",
       "22   -11.332535\n",
       "28   -11.364300\n",
       "1    -11.426344\n",
       "6    -11.518898\n",
       "9    -12.152350\n",
       "15   -12.183323\n",
       "5    -12.347135\n",
       "36   -12.523412\n",
       "29   -12.888363\n",
       "45   -13.889210\n",
       "14   -17.551087\n",
       "Name: Weekly_Sales, dtype: float64"
      ]
     },
     "execution_count": 80,
     "metadata": {},
     "output_type": "execute_result"
    }
   ],
   "source": [
    "growth_rate.sort_values(ascending=False)"
   ]
  },
  {
   "cell_type": "markdown",
   "id": "3eb3ad2a",
   "metadata": {},
   "source": [
    "# Find out holidays which have higher sales than the mean sales in non-holiday season for all stores together"
   ]
  },
  {
   "cell_type": "code",
   "execution_count": 81,
   "id": "a4dc1e03",
   "metadata": {},
   "outputs": [],
   "source": [
    "# mentioning the holiday events\n",
    "\n",
    "Super_Bowl=['12-02-2010','11-02-2011','10-02-2012']\n",
    "labour_Day=['10-09-2010','09-09-2011','07-09-2012']\n",
    "Thanks_giving=['26-11-2010','25-11-2011','23-11-2012']\n",
    "Chirstmas=['31-12-2010','30-12-2011','28-12-2012']"
   ]
  },
  {
   "cell_type": "code",
   "execution_count": 82,
   "id": "bc4980d7",
   "metadata": {},
   "outputs": [],
   "source": [
    "# calculating sales at holidays\n",
    "\n",
    "Super_Bowl_Sales = data[data.Date.isin(Super_Bowl)]['Weekly_Sales'].mean()\n",
    "labour_Day_Sales = data[data.Date.isin(labour_Day)]['Weekly_Sales'].mean()\n",
    "Thanks_giving_Sales = data[data.Date.isin(Thanks_giving)]['Weekly_Sales'].mean()\n",
    "Chirstmas_Sales = data[data.Date.isin(Chirstmas)]['Weekly_Sales'].mean()"
   ]
  },
  {
   "cell_type": "code",
   "execution_count": 83,
   "id": "7ffe4580",
   "metadata": {},
   "outputs": [
    {
     "name": "stdout",
     "output_type": "stream",
     "text": [
      "1079127.9877037033\n",
      "1042427.2939259257\n",
      "1471273.427777778\n",
      "960833.1115555551\n"
     ]
    }
   ],
   "source": [
    "print(Super_Bowl_Sales)\n",
    "print(labour_Day_Sales)\n",
    "print(Thanks_giving_Sales)\n",
    "print(Chirstmas_Sales)"
   ]
  },
  {
   "cell_type": "code",
   "execution_count": 84,
   "id": "5c3a07ae",
   "metadata": {},
   "outputs": [
    {
     "data": {
      "text/plain": [
       "1041256.3802088564"
      ]
     },
     "execution_count": 84,
     "metadata": {},
     "output_type": "execute_result"
    }
   ],
   "source": [
    "# calculating non-holiday sales\n",
    "non_hldy = data[(data['Holiday_Flag']==0)]['Weekly_Sales'].mean()\n",
    "non_hldy"
   ]
  },
  {
   "cell_type": "code",
   "execution_count": 85,
   "id": "48e40763",
   "metadata": {},
   "outputs": [
    {
     "data": {
      "text/html": [
       "<div>\n",
       "<style scoped>\n",
       "    .dataframe tbody tr th:only-of-type {\n",
       "        vertical-align: middle;\n",
       "    }\n",
       "\n",
       "    .dataframe tbody tr th {\n",
       "        vertical-align: top;\n",
       "    }\n",
       "\n",
       "    .dataframe thead th {\n",
       "        text-align: right;\n",
       "    }\n",
       "</style>\n",
       "<table border=\"1\" class=\"dataframe\">\n",
       "  <thead>\n",
       "    <tr style=\"text-align: right;\">\n",
       "      <th></th>\n",
       "      <th>super bowl</th>\n",
       "      <th>labour day</th>\n",
       "      <th>thanks giving</th>\n",
       "      <th>christmas</th>\n",
       "      <th>non-holiday</th>\n",
       "    </tr>\n",
       "  </thead>\n",
       "  <tbody>\n",
       "    <tr>\n",
       "      <th>0</th>\n",
       "      <td>1079128.0</td>\n",
       "      <td>1042427.0</td>\n",
       "      <td>1471273.0</td>\n",
       "      <td>960833.0</td>\n",
       "      <td>1041256.0</td>\n",
       "    </tr>\n",
       "  </tbody>\n",
       "</table>\n",
       "</div>"
      ],
      "text/plain": [
       "   super bowl  labour day  thanks giving  christmas  non-holiday\n",
       "0   1079128.0   1042427.0      1471273.0   960833.0    1041256.0"
      ]
     },
     "execution_count": 85,
     "metadata": {},
     "output_type": "execute_result"
    }
   ],
   "source": [
    "compare = pd.DataFrame([{'super bowl':Super_Bowl_Sales,'labour day':labour_Day_Sales,'thanks giving':Thanks_giving_Sales,'christmas':Chirstmas_Sales,'non-holiday':non_hldy}])\n",
    "compare.round()\n"
   ]
  },
  {
   "cell_type": "markdown",
   "id": "5966e1ac",
   "metadata": {},
   "source": [
    "# Provide a monthly and semester view of sales in units and give insights"
   ]
  },
  {
   "cell_type": "code",
   "execution_count": 86,
   "id": "6f0b2df2",
   "metadata": {},
   "outputs": [
    {
     "data": {
      "text/html": [
       "<div>\n",
       "<style scoped>\n",
       "    .dataframe tbody tr th:only-of-type {\n",
       "        vertical-align: middle;\n",
       "    }\n",
       "\n",
       "    .dataframe tbody tr th {\n",
       "        vertical-align: top;\n",
       "    }\n",
       "\n",
       "    .dataframe thead th {\n",
       "        text-align: right;\n",
       "    }\n",
       "</style>\n",
       "<table border=\"1\" class=\"dataframe\">\n",
       "  <thead>\n",
       "    <tr style=\"text-align: right;\">\n",
       "      <th></th>\n",
       "      <th>Store</th>\n",
       "      <th>Date</th>\n",
       "      <th>Weekly_Sales</th>\n",
       "      <th>Holiday_Flag</th>\n",
       "      <th>Temperature</th>\n",
       "      <th>Fuel_Price</th>\n",
       "      <th>CPI</th>\n",
       "      <th>Unemployment</th>\n",
       "      <th>day</th>\n",
       "      <th>month</th>\n",
       "      <th>year</th>\n",
       "    </tr>\n",
       "  </thead>\n",
       "  <tbody>\n",
       "    <tr>\n",
       "      <th>0</th>\n",
       "      <td>1</td>\n",
       "      <td>2010-05-02</td>\n",
       "      <td>1643690.90</td>\n",
       "      <td>0</td>\n",
       "      <td>42.31</td>\n",
       "      <td>2.572</td>\n",
       "      <td>211.096358</td>\n",
       "      <td>8.106</td>\n",
       "      <td>2</td>\n",
       "      <td>5</td>\n",
       "      <td>2010</td>\n",
       "    </tr>\n",
       "    <tr>\n",
       "      <th>1</th>\n",
       "      <td>1</td>\n",
       "      <td>2010-12-02</td>\n",
       "      <td>1641957.44</td>\n",
       "      <td>1</td>\n",
       "      <td>38.51</td>\n",
       "      <td>2.548</td>\n",
       "      <td>211.242170</td>\n",
       "      <td>8.106</td>\n",
       "      <td>2</td>\n",
       "      <td>12</td>\n",
       "      <td>2010</td>\n",
       "    </tr>\n",
       "    <tr>\n",
       "      <th>2</th>\n",
       "      <td>1</td>\n",
       "      <td>2010-02-19</td>\n",
       "      <td>1611968.17</td>\n",
       "      <td>0</td>\n",
       "      <td>39.93</td>\n",
       "      <td>2.514</td>\n",
       "      <td>211.289143</td>\n",
       "      <td>8.106</td>\n",
       "      <td>19</td>\n",
       "      <td>2</td>\n",
       "      <td>2010</td>\n",
       "    </tr>\n",
       "    <tr>\n",
       "      <th>3</th>\n",
       "      <td>1</td>\n",
       "      <td>2010-02-26</td>\n",
       "      <td>1409727.59</td>\n",
       "      <td>0</td>\n",
       "      <td>46.63</td>\n",
       "      <td>2.561</td>\n",
       "      <td>211.319643</td>\n",
       "      <td>8.106</td>\n",
       "      <td>26</td>\n",
       "      <td>2</td>\n",
       "      <td>2010</td>\n",
       "    </tr>\n",
       "    <tr>\n",
       "      <th>4</th>\n",
       "      <td>1</td>\n",
       "      <td>2010-05-03</td>\n",
       "      <td>1554806.68</td>\n",
       "      <td>0</td>\n",
       "      <td>46.50</td>\n",
       "      <td>2.625</td>\n",
       "      <td>211.350143</td>\n",
       "      <td>8.106</td>\n",
       "      <td>3</td>\n",
       "      <td>5</td>\n",
       "      <td>2010</td>\n",
       "    </tr>\n",
       "    <tr>\n",
       "      <th>...</th>\n",
       "      <td>...</td>\n",
       "      <td>...</td>\n",
       "      <td>...</td>\n",
       "      <td>...</td>\n",
       "      <td>...</td>\n",
       "      <td>...</td>\n",
       "      <td>...</td>\n",
       "      <td>...</td>\n",
       "      <td>...</td>\n",
       "      <td>...</td>\n",
       "      <td>...</td>\n",
       "    </tr>\n",
       "    <tr>\n",
       "      <th>6430</th>\n",
       "      <td>45</td>\n",
       "      <td>2012-09-28</td>\n",
       "      <td>713173.95</td>\n",
       "      <td>0</td>\n",
       "      <td>64.88</td>\n",
       "      <td>3.997</td>\n",
       "      <td>192.013558</td>\n",
       "      <td>8.684</td>\n",
       "      <td>28</td>\n",
       "      <td>9</td>\n",
       "      <td>2012</td>\n",
       "    </tr>\n",
       "    <tr>\n",
       "      <th>6431</th>\n",
       "      <td>45</td>\n",
       "      <td>2012-05-10</td>\n",
       "      <td>733455.07</td>\n",
       "      <td>0</td>\n",
       "      <td>64.89</td>\n",
       "      <td>3.985</td>\n",
       "      <td>192.170412</td>\n",
       "      <td>8.667</td>\n",
       "      <td>10</td>\n",
       "      <td>5</td>\n",
       "      <td>2012</td>\n",
       "    </tr>\n",
       "    <tr>\n",
       "      <th>6432</th>\n",
       "      <td>45</td>\n",
       "      <td>2012-12-10</td>\n",
       "      <td>734464.36</td>\n",
       "      <td>0</td>\n",
       "      <td>54.47</td>\n",
       "      <td>4.000</td>\n",
       "      <td>192.327265</td>\n",
       "      <td>8.667</td>\n",
       "      <td>10</td>\n",
       "      <td>12</td>\n",
       "      <td>2012</td>\n",
       "    </tr>\n",
       "    <tr>\n",
       "      <th>6433</th>\n",
       "      <td>45</td>\n",
       "      <td>2012-10-19</td>\n",
       "      <td>718125.53</td>\n",
       "      <td>0</td>\n",
       "      <td>56.47</td>\n",
       "      <td>3.969</td>\n",
       "      <td>192.330854</td>\n",
       "      <td>8.667</td>\n",
       "      <td>19</td>\n",
       "      <td>10</td>\n",
       "      <td>2012</td>\n",
       "    </tr>\n",
       "    <tr>\n",
       "      <th>6434</th>\n",
       "      <td>45</td>\n",
       "      <td>2012-10-26</td>\n",
       "      <td>760281.43</td>\n",
       "      <td>0</td>\n",
       "      <td>58.85</td>\n",
       "      <td>3.882</td>\n",
       "      <td>192.308899</td>\n",
       "      <td>8.667</td>\n",
       "      <td>26</td>\n",
       "      <td>10</td>\n",
       "      <td>2012</td>\n",
       "    </tr>\n",
       "  </tbody>\n",
       "</table>\n",
       "<p>6435 rows × 11 columns</p>\n",
       "</div>"
      ],
      "text/plain": [
       "      Store       Date  Weekly_Sales  Holiday_Flag  Temperature  Fuel_Price  \\\n",
       "0         1 2010-05-02    1643690.90             0        42.31       2.572   \n",
       "1         1 2010-12-02    1641957.44             1        38.51       2.548   \n",
       "2         1 2010-02-19    1611968.17             0        39.93       2.514   \n",
       "3         1 2010-02-26    1409727.59             0        46.63       2.561   \n",
       "4         1 2010-05-03    1554806.68             0        46.50       2.625   \n",
       "...     ...        ...           ...           ...          ...         ...   \n",
       "6430     45 2012-09-28     713173.95             0        64.88       3.997   \n",
       "6431     45 2012-05-10     733455.07             0        64.89       3.985   \n",
       "6432     45 2012-12-10     734464.36             0        54.47       4.000   \n",
       "6433     45 2012-10-19     718125.53             0        56.47       3.969   \n",
       "6434     45 2012-10-26     760281.43             0        58.85       3.882   \n",
       "\n",
       "             CPI  Unemployment  day  month  year  \n",
       "0     211.096358         8.106    2      5  2010  \n",
       "1     211.242170         8.106    2     12  2010  \n",
       "2     211.289143         8.106   19      2  2010  \n",
       "3     211.319643         8.106   26      2  2010  \n",
       "4     211.350143         8.106    3      5  2010  \n",
       "...          ...           ...  ...    ...   ...  \n",
       "6430  192.013558         8.684   28      9  2012  \n",
       "6431  192.170412         8.667   10      5  2012  \n",
       "6432  192.327265         8.667   10     12  2012  \n",
       "6433  192.330854         8.667   19     10  2012  \n",
       "6434  192.308899         8.667   26     10  2012  \n",
       "\n",
       "[6435 rows x 11 columns]"
      ]
     },
     "execution_count": 86,
     "metadata": {},
     "output_type": "execute_result"
    }
   ],
   "source": [
    "data['day'] = pd.DatetimeIndex(data['Date']).day\n",
    "data['month'] = pd.DatetimeIndex(data['Date']).month\n",
    "data['year'] = pd.DatetimeIndex(data['Date']).year\n",
    "data"
   ]
  },
  {
   "cell_type": "code",
   "execution_count": 87,
   "id": "868e8134",
   "metadata": {},
   "outputs": [
    {
     "data": {
      "text/plain": [
       "<BarContainer object of 6435 artists>"
      ]
     },
     "execution_count": 87,
     "metadata": {},
     "output_type": "execute_result"
    },
    {
     "data": {
      "image/png": "[encoded data removed]",
      "text/plain": [
       "<Figure size 432x288 with 1 Axes>"
      ]
     },
     "metadata": {
      "needs_background": "light"
     },
     "output_type": "display_data"
    }
   ],
   "source": [
    "# for the view of sales, we can use bargraph\n",
    "\n",
    "plt.figure\n",
    "plt.bar(data['month'],data['Weekly_Sales'])\n"
   ]
  },
  {
   "cell_type": "code",
   "execution_count": 88,
   "id": "0c2d2292",
   "metadata": {},
   "outputs": [
    {
     "data": {
      "text/plain": [
       "<AxesSubplot:xlabel='year'>"
      ]
     },
     "execution_count": 88,
     "metadata": {},
     "output_type": "execute_result"
    },
    {
     "data": {
      "image/png": "[encoded data removed]",
      "text/plain": [
       "<Figure size 432x288 with 1 Axes>"
      ]
     },
     "metadata": {
      "needs_background": "light"
     },
     "output_type": "display_data"
    }
   ],
   "source": [
    "plt.figure\n",
    "data.groupby('year')[['Weekly_Sales']].sum().plot(kind='bar')\n",
    "\n"
   ]
  },
  {
   "cell_type": "markdown",
   "id": "871cec2d",
   "metadata": {},
   "source": [
    "# Statistical Model"
   ]
  },
  {
   "cell_type": "code",
   "execution_count": 89,
   "id": "bebf2a6f",
   "metadata": {},
   "outputs": [],
   "source": [
    "import warnings\n",
    "warnings.filterwarnings('ignore')"
   ]
  },
  {
   "cell_type": "code",
   "execution_count": 90,
   "id": "b601e680",
   "metadata": {},
   "outputs": [
    {
     "data": {
      "text/plain": [
       "<AxesSubplot:xlabel='CPI'>"
      ]
     },
     "execution_count": 90,
     "metadata": {},
     "output_type": "execute_result"
    },
    {
     "data": {
      "image/png": "[encoded data removed]",
      "text/plain": [
       "<Figure size 432x288 with 1 Axes>"
      ]
     },
     "metadata": {
      "needs_background": "light"
     },
     "output_type": "display_data"
    }
   ],
   "source": [
    "# detecting outliers of temperature,\n",
    "\n",
    "sns.boxplot(data['CPI'])"
   ]
  },
  {
   "cell_type": "code",
   "execution_count": 91,
   "id": "b5e80d33",
   "metadata": {},
   "outputs": [
    {
     "data": {
      "text/plain": [
       "<AxesSubplot:xlabel='Unemployment'>"
      ]
     },
     "execution_count": 91,
     "metadata": {},
     "output_type": "execute_result"
    },
    {
     "data": {
      "image/png": "[encoded data removed]",
      "text/plain": [
       "<Figure size 432x288 with 1 Axes>"
      ]
     },
     "metadata": {
      "needs_background": "light"
     },
     "output_type": "display_data"
    }
   ],
   "source": [
    "sns.boxplot(data['Unemployment'])"
   ]
  },
  {
   "cell_type": "code",
   "execution_count": 92,
   "id": "322dd83d",
   "metadata": {},
   "outputs": [
    {
     "data": {
      "text/plain": [
       "<AxesSubplot:xlabel='Fuel_Price'>"
      ]
     },
     "execution_count": 92,
     "metadata": {},
     "output_type": "execute_result"
    },
    {
     "data": {
      "image/png": "[encoded data removed]",
      "text/plain": [
       "<Figure size 432x288 with 1 Axes>"
      ]
     },
     "metadata": {
      "needs_background": "light"
     },
     "output_type": "display_data"
    }
   ],
   "source": [
    "sns.boxplot(data['Fuel_Price'])"
   ]
  },
  {
   "cell_type": "code",
   "execution_count": 93,
   "id": "7c6b1605",
   "metadata": {},
   "outputs": [],
   "source": [
    "# as there are only outliers in unemployment column, we remove that outliers\n",
    "\n",
    "Q1 = np.percentile(data['Unemployment'],25,interpolation='midpoint')\n",
    "Q3 = np.percentile(data['Unemployment'],75,interpolation='midpoint')"
   ]
  },
  {
   "cell_type": "code",
   "execution_count": 94,
   "id": "5600eee0",
   "metadata": {},
   "outputs": [],
   "source": [
    "IQR = Q3-Q1"
   ]
  },
  {
   "cell_type": "code",
   "execution_count": 95,
   "id": "0e94055e",
   "metadata": {},
   "outputs": [],
   "source": [
    "upper = np.where(data['Unemployment']>=(Q3+1.5*IQR))\n",
    "lower = np.where(data['Unemployment']<=(Q1-1.5*IQR))"
   ]
  },
  {
   "cell_type": "code",
   "execution_count": 96,
   "id": "57aa3133",
   "metadata": {},
   "outputs": [],
   "source": [
    "data.drop(upper[0],inplace=True)\n",
    "data.drop(lower[0],inplace=True)"
   ]
  },
  {
   "cell_type": "code",
   "execution_count": 97,
   "id": "c8ee70e4",
   "metadata": {},
   "outputs": [
    {
     "data": {
      "text/plain": [
       "<AxesSubplot:xlabel='Unemployment'>"
      ]
     },
     "execution_count": 97,
     "metadata": {},
     "output_type": "execute_result"
    },
    {
     "data": {
      "image/png": "[encoded data removed]",
      "text/plain": [
       "<Figure size 432x288 with 1 Axes>"
      ]
     },
     "metadata": {
      "needs_background": "light"
     },
     "output_type": "display_data"
    }
   ],
   "source": [
    "sns.boxplot(data['Unemployment'])"
   ]
  },
  {
   "cell_type": "markdown",
   "id": "8b4f2763",
   "metadata": {},
   "source": [
    "# splitting and applying linear regression"
   ]
  },
  {
   "cell_type": "code",
   "execution_count": 98,
   "id": "c5bf768e",
   "metadata": {},
   "outputs": [],
   "source": [
    "import warnings\n",
    "warnings.filterwarnings('ignore')"
   ]
  },
  {
   "cell_type": "code",
   "execution_count": 99,
   "id": "48481e25",
   "metadata": {},
   "outputs": [],
   "source": [
    "from sklearn.model_selection import train_test_split\n",
    "x = data[['Store','Fuel_Price','CPI','Unemployment','day','month','year']]\n",
    "y = data['Weekly_Sales']\n",
    "train_x, test_x, train_y, test_y = train_test_split(x, y, test_size=0.20, random_state =100)"
   ]
  },
  {
   "cell_type": "code",
   "execution_count": 100,
   "id": "e1dcd920",
   "metadata": {},
   "outputs": [],
   "source": [
    "from sklearn import metrics\n",
    "from sklearn.linear_model import LinearRegression\n",
    "reg = LinearRegression()"
   ]
  },
  {
   "cell_type": "code",
   "execution_count": 101,
   "id": "cf19376c",
   "metadata": {},
   "outputs": [
    {
     "data": {
      "text/plain": [
       "array([1280014.0390154 , 1397533.11069405,  909874.88137622, ...,\n",
       "       1020590.94740969,  872739.47541055, 1246392.53984083])"
      ]
     },
     "execution_count": 101,
     "metadata": {},
     "output_type": "execute_result"
    }
   ],
   "source": [
    "reg.fit(train_x, train_y)\n",
    "y_pred = reg.predict(test_x)\n",
    "y_pred"
   ]
  },
  {
   "cell_type": "code",
   "execution_count": 102,
   "id": "761bb5e8",
   "metadata": {},
   "outputs": [
    {
     "name": "stdout",
     "output_type": "stream",
     "text": [
      "Accuracy: 13.516689405253757\n",
      "Mean Absolute Error: 451669.13856287336\n",
      "Mean Squared Error: 295509964626.10516\n",
      "Root Mean Squared Error: 543608.2823376638\n"
     ]
    }
   ],
   "source": [
    "#metrics\n",
    "\n",
    "print('Accuracy:',reg.score(train_x, train_y)*100)\n",
    "print('Mean Absolute Error:', metrics.mean_absolute_error(test_y, y_pred))\n",
    "print('Mean Squared Error:', metrics.mean_squared_error(test_y, y_pred))\n",
    "print('Root Mean Squared Error:', np.sqrt(metrics.mean_squared_error(test_y, y_pred)))\n"
   ]
  },
  {
   "cell_type": "code",
   "execution_count": 103,
   "id": "46547b7a",
   "metadata": {},
   "outputs": [
    {
     "data": {
      "text/plain": [
       "<AxesSubplot:ylabel='Weekly_Sales'>"
      ]
     },
     "execution_count": 103,
     "metadata": {},
     "output_type": "execute_result"
    },
    {
     "data": {
      "image/png": "[encoded data removed]",
      "text/plain": [
       "<Figure size 432x288 with 1 Axes>"
      ]
     },
     "metadata": {
      "needs_background": "light"
     },
     "output_type": "display_data"
    }
   ],
   "source": [
    "sns.scatterplot(y_pred,test_y)"
   ]
  },
  {
   "cell_type": "markdown",
   "id": "e263f5b5",
   "metadata": {},
   "source": [
    "# random forest regressor"
   ]
  },
  {
   "cell_type": "code",
   "execution_count": 104,
   "id": "680c7c9a",
   "metadata": {},
   "outputs": [],
   "source": [
    "from sklearn.ensemble import RandomForestRegressor"
   ]
  },
  {
   "cell_type": "code",
   "execution_count": 105,
   "id": "b0ee758e",
   "metadata": {},
   "outputs": [
    {
     "data": {
      "text/plain": [
       "array([1601324.0968, 2221883.9804,  740836.7872, ..., 1643007.2957,\n",
       "       1410754.6635,  310025.8102])"
      ]
     },
     "execution_count": 105,
     "metadata": {},
     "output_type": "execute_result"
    }
   ],
   "source": [
    "rfr = RandomForestRegressor() \n",
    "rfr.fit(train_x, train_y)\n",
    "Y_pred = rfr.predict(test_x)\n",
    "Y_pred"
   ]
  },
  {
   "cell_type": "code",
   "execution_count": 107,
   "id": "b46e2231",
   "metadata": {},
   "outputs": [],
   "source": [
    "import warnings\n",
    "warnings.filterwarnings('ignore')"
   ]
  },
  {
   "cell_type": "code",
   "execution_count": 108,
   "id": "1bef9c3a",
   "metadata": {},
   "outputs": [
    {
     "name": "stdout",
     "output_type": "stream",
     "text": [
      "Accuracy: 99.27559207599063\n",
      "Mean Absolute Error: 451669.13856287336\n",
      "Mean Squared Error: 295509964626.10516\n",
      "Root Mean Squared Error: 543608.2823376638\n"
     ]
    },
    {
     "data": {
      "text/plain": [
       "<AxesSubplot:ylabel='Weekly_Sales'>"
      ]
     },
     "execution_count": 108,
     "metadata": {},
     "output_type": "execute_result"
    },
    {
     "data": {
      "image/png": "[encoded data removed]",
      "text/plain": [
       "<Figure size 432x288 with 1 Axes>"
      ]
     },
     "metadata": {
      "needs_background": "light"
     },
     "output_type": "display_data"
    }
   ],
   "source": [
    "print('Accuracy:',rfr.score(train_x, train_y)*100)\n",
    "print('Mean Absolute Error:', metrics.mean_absolute_error(test_y, y_pred))\n",
    "print('Mean Squared Error:', metrics.mean_squared_error(test_y, y_pred))\n",
    "print('Root Mean Squared Error:', np.sqrt(metrics.mean_squared_error(test_y, y_pred)))\n",
    "sns.scatterplot(Y_pred, test_y, color='Brown')"
   ]
  }
 ],
 "metadata": {
  "kernelspec": {
   "display_name": "Python 3 (ipykernel)",
   "language": "python",
   "name": "python3"
  },
  "language_info": {
   "codemirror_mode": {
    "name": "ipython",
    "version": 3
   },
   "file_extension": ".py",
   "mimetype": "text/x-python",
   "name": "python",
   "nbconvert_exporter": "python",
   "pygments_lexer": "ipython3",
   "version": "3.9.12"
  }
 },
 "nbformat": 4,
 "nbformat_minor": 5
}
